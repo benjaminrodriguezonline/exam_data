{
 "cells": [
  {
   "cell_type": "code",
   "execution_count": 2,
   "metadata": {},
   "outputs": [
    {
     "name": "stdout",
     "output_type": "stream",
     "text": [
      "  Student Name Question 1 Question 2 Question 3 Question 4 Question 5  \\\n",
      "0      Topic #    Topic 1    Topic 2    Topic 3    Topic 4    Topic 5   \n",
      "1    Student 1          0          1          1          1          1   \n",
      "2    Student 2          1          1          1          1          1   \n",
      "3    Student 3          1          0          1          1          0   \n",
      "4    Student 4          1          0          1          1          1   \n",
      "\n",
      "  Question 6 Question 7 Question 8 Question 9 Question 10  \n",
      "0    Topic 6    Topic 7    Topic 8    Topic 9    Topic 10  \n",
      "1          1          1          1          1           1  \n",
      "2          1          1          1          1           1  \n",
      "3          1          1          1          1           1  \n",
      "4          1          1          1          1           1  \n"
     ]
    }
   ],
   "source": [
    "import pandas as pd\n",
    "\n",
    "file_path = '../data/sample_report.csv'\n",
    "df = pd.read_csv(file_path)\n",
    "\n",
    "print(df.head())"
   ]
  },
  {
   "cell_type": "code",
   "execution_count": 39,
   "metadata": {},
   "outputs": [
    {
     "name": "stdout",
     "output_type": "stream",
     "text": [
      "   Student Name Question 1 Question 2 Question 3 Question 4 Question 5  \\\n",
      "0       Topic #    Topic 1    Topic 2    Topic 3    Topic 4    Topic 5   \n",
      "1     Student 1          0          1          1          1          1   \n",
      "2     Student 2          1          1          1          1          1   \n",
      "3     Student 3          1          0          1          1          0   \n",
      "4     Student 4          1          0          1          1          1   \n",
      "5     Student 5          1          0          1          1          0   \n",
      "6     Student 6          1          0          1          1          1   \n",
      "7     Student 7          1          1          1          1          1   \n",
      "8     Student 8          1          1          1          1          1   \n",
      "9     Student 9          1          1          0          1          1   \n",
      "10   Student 10          1          0          0          1          0   \n",
      "11   Student 11          1          1          0          0          0   \n",
      "12   Student 12          0          1          0          1          1   \n",
      "13   Student 13          0          0          0          1          1   \n",
      "14   Student 14          1          1          1          1          0   \n",
      "15   Student 15          1          1          0          1          0   \n",
      "16   Student 16          1          1          1          1          1   \n",
      "17   Student 17          1          1          1          1          0   \n",
      "18   Student 18          0          0          0          0          1   \n",
      "19   Student 19          0          1          1          1          1   \n",
      "20   Student 20          1          1          1          0          0   \n",
      "21   Student 21          1          1          0          1          0   \n",
      "22   Student 22          1          1          1          1          1   \n",
      "23   Student 23          1          1          1          1          1   \n",
      "24   Student 24          1          0          1          1          1   \n",
      "25   Student 25          1          0          1          1          1   \n",
      "26   Student 26          1          1          1          1          1   \n",
      "27   Student 27          1          0          1          1          1   \n",
      "28   Student 28          1          1          0          1          1   \n",
      "29   Student 29          1          1          1          1          1   \n",
      "30   Student 30          1          1          1          1          0   \n",
      "\n",
      "   Question 6 Question 7 Question 8 Question 9 Question 10  \n",
      "0     Topic 6    Topic 7    Topic 8    Topic 9    Topic 10  \n",
      "1           1          1          1          1           1  \n",
      "2           1          1          1          1           1  \n",
      "3           1          1          1          1           1  \n",
      "4           1          1          1          1           1  \n",
      "5           0          1          0          1           1  \n",
      "6           1          1          0          1           1  \n",
      "7           0          0          1          0           0  \n",
      "8           1          1          1          1           1  \n",
      "9           0          1          1          1           1  \n",
      "10          0          1          0          1           1  \n",
      "11          0          1          1          1           1  \n",
      "12          1          1          1          1           1  \n",
      "13          1          1          1          1           1  \n",
      "14          1          0          1          1           1  \n",
      "15          1          1          1          1           1  \n",
      "16          1          1          1          1           1  \n",
      "17          1          1          1          0           0  \n",
      "18          1          0          1          0           0  \n",
      "19          1          1          0          1           0  \n",
      "20          1          1          1          1           0  \n",
      "21          0          1          1          1           0  \n",
      "22          1          1          1          1           1  \n",
      "23          0          1          1          0           0  \n",
      "24          1          1          1          0           1  \n",
      "25          1          1          1          1           1  \n",
      "26          1          0          1          1           1  \n",
      "27          0          1          1          1           1  \n",
      "28          1          1          1          1           0  \n",
      "29          1          1          1          1           0  \n",
      "30          1          1          0          1           0  \n"
     ]
    }
   ],
   "source": [
    "import pandas as pd\n",
    "\n",
    "df_topics = pd.read_csv('../data/sample_report.csv', skiprows = 1, nrows = 1, header = None)\n",
    "\n",
    "topics = df_topics.values.flatten().tolist()[1:]\n",
    "\n",
    "\n",
    "\n",
    "df_data = pd.read_csv('../data/sample_report.csv',)\n",
    "\n",
    "\n",
    "\n",
    "print(df_data)"
   ]
  },
  {
   "cell_type": "code",
   "execution_count": null,
   "metadata": {},
   "outputs": [],
   "source": []
  }
 ],
 "metadata": {
  "kernelspec": {
   "display_name": "Python 3",
   "language": "python",
   "name": "python3"
  },
  "language_info": {
   "codemirror_mode": {
    "name": "ipython",
    "version": 3
   },
   "file_extension": ".py",
   "mimetype": "text/x-python",
   "name": "python",
   "nbconvert_exporter": "python",
   "pygments_lexer": "ipython3",
   "version": "3.12.5"
  }
 },
 "nbformat": 4,
 "nbformat_minor": 2
}
